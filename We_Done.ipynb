{
 "cells": [
  {
   "cell_type": "markdown",
   "metadata": {},
   "source": [
    "### Loading the Data"
   ]
  },
  {
   "cell_type": "code",
   "execution_count": 1,
   "metadata": {},
   "outputs": [],
   "source": [
    "import pandas as pd\n",
    "import numpy as np"
   ]
  },
  {
   "cell_type": "code",
   "execution_count": 2,
   "metadata": {},
   "outputs": [],
   "source": [
    "lineup_dat = pd.read_csv(\"Game_Lineup.txt\", \"\\t\")\n",
    "play_dat = pd.read_csv(\"Play_by_Play.txt\", \"\\t\")"
   ]
  },
  {
   "cell_type": "markdown",
   "metadata": {},
   "source": [
    "### Cleaning the data set specified in the instructions"
   ]
  },
  {
   "cell_type": "code",
   "execution_count": 3,
   "metadata": {},
   "outputs": [],
   "source": [
    "# To properly sort the events in a game, use the following sequence of sorted columns: \n",
    "# Period (ascending), PC_Time (descending), WC_Time (ascending), Event_Num (ascending)\n",
    "play_dat = play_dat.sort_values([\"Period\", \"PC_Time\", \"WC_Time\",\"Event_Num\"], axis = 0, \n",
    "                 ascending = [True, False, True, True], inplace = False)"
   ]
  },
  {
   "cell_type": "markdown",
   "metadata": {},
   "source": [
    "### Merging player data with game by game data"
   ]
  },
  {
   "cell_type": "code",
   "execution_count": 4,
   "metadata": {},
   "outputs": [],
   "source": [
    "# in most scenarios, this is the Team_id associated with the Person1 column. \n",
    "# However, there are instances when this is not the case. To\n",
    "# accurately and consistently identify a player’s team, \n",
    "# we suggest merging with the Game_Lineup dataset on the Person1 and Person2 columns.\n",
    "\n",
    "# First get a df of the team_id for each player_id\n",
    "\n",
    "all_players = list(set(lineup_dat[\"Person_id\"]))\n",
    "\n",
    "my_list = []\n",
    "for i in range(0, len(all_players)):\n",
    "    \n",
    "    x = lineup_dat[lineup_dat[\"Person_id\"] == all_players[i]][\"Team_id\"]\n",
    "    x = list(x)\n",
    "    my_list.append(x[0])\n",
    "\n",
    "len(my_list)\n",
    "\n",
    "player_team_df = pd.DataFrame(my_list, all_players).reset_index(drop = False)\n",
    "player_team_df.columns = [\"Person_id\", \"Team_id\"]"
   ]
  },
  {
   "cell_type": "code",
   "execution_count": 5,
   "metadata": {},
   "outputs": [],
   "source": [
    "# Get the accurate team_id to correspond with each player_id of each row in play_dat\n",
    "team_id_list = []\n",
    "for i in play_dat[\"Person1\"]:\n",
    "    x = player_team_df[player_team_df[\"Person_id\"] == i][\"Team_id\"]\n",
    "    if x.empty == False:\n",
    "        x = list(x)\n",
    "        team_id_list.append(x[0])\n",
    "    else:\n",
    "        team_id_list.append(\"N/A\")"
   ]
  },
  {
   "cell_type": "code",
   "execution_count": 6,
   "metadata": {
    "scrolled": true
   },
   "outputs": [
    {
     "data": {
      "text/plain": [
       "True     23192\n",
       "False    14697\n",
       "Name: Team_id, dtype: int64"
      ]
     },
     "execution_count": 6,
     "metadata": {},
     "output_type": "execute_result"
    }
   ],
   "source": [
    "# Check to see if it worked, this shows there were 14,697 times where the team_id did not correspond to the player_id\n",
    "(play_dat[\"Team_id\"] == team_id_list).value_counts()"
   ]
  },
  {
   "cell_type": "code",
   "execution_count": 7,
   "metadata": {},
   "outputs": [],
   "source": [
    "play_dat[\"Team_id_updated\"] = team_id_list"
   ]
  },
  {
   "cell_type": "code",
   "execution_count": 8,
   "metadata": {},
   "outputs": [
    {
     "data": {
      "text/html": [
       "<div>\n",
       "<style scoped>\n",
       "    .dataframe tbody tr th:only-of-type {\n",
       "        vertical-align: middle;\n",
       "    }\n",
       "\n",
       "    .dataframe tbody tr th {\n",
       "        vertical-align: top;\n",
       "    }\n",
       "\n",
       "    .dataframe thead th {\n",
       "        text-align: right;\n",
       "    }\n",
       "</style>\n",
       "<table border=\"1\" class=\"dataframe\">\n",
       "  <thead>\n",
       "    <tr style=\"text-align: right;\">\n",
       "      <th></th>\n",
       "      <th>Event_Msg_Type</th>\n",
       "      <th>Action_Type</th>\n",
       "      <th>Event_Msg_Type_Description</th>\n",
       "      <th>Action_Type_Description</th>\n",
       "    </tr>\n",
       "  </thead>\n",
       "  <tbody>\n",
       "    <tr>\n",
       "      <th>266</th>\n",
       "      <td>10</td>\n",
       "      <td>0</td>\n",
       "      <td>Jump Ball</td>\n",
       "      <td></td>\n",
       "    </tr>\n",
       "  </tbody>\n",
       "</table>\n",
       "</div>"
      ],
      "text/plain": [
       "     Event_Msg_Type  Action_Type                Event_Msg_Type_Description  \\\n",
       "266              10            0  Jump Ball                                  \n",
       "\n",
       "    Action_Type_Description  \n",
       "266                          "
      ]
     },
     "execution_count": 8,
     "metadata": {},
     "output_type": "execute_result"
    }
   ],
   "source": [
    "event_codes = pd.read_csv(\"Event_Codes.txt\", \"\\t\")\n",
    "event_codes[event_codes[\"Event_Msg_Type\"] == 10]"
   ]
  },
  {
   "cell_type": "code",
   "execution_count": 9,
   "metadata": {},
   "outputs": [],
   "source": [
    "event_descriptiion = []\n",
    "event_msg_type = list(play_dat[\"Event_Msg_Type\"])\n",
    "action_type = list(play_dat[\"Action_Type\"])"
   ]
  },
  {
   "cell_type": "code",
   "execution_count": 10,
   "metadata": {},
   "outputs": [],
   "source": [
    "number_of_rows = len(action_type)\n",
    "\n",
    "description_columns = []\n",
    "for row_number in range(0,number_of_rows):\n",
    "    \n",
    "    # get from play_dat the event and action\n",
    "    event = event_msg_type[row_number]\n",
    "    action = action_type[row_number]\n",
    "    \n",
    "    # subset the event_codes table to get the descriptions for the respective event and action\n",
    "    subset = event_codes[(event_codes[\"Event_Msg_Type\"] == event) & (event_codes[\"Action_Type\"] == action)]\n",
    "    \n",
    "    event_msg_type_description = list(subset[\"Event_Msg_Type_Description\"])[0]\n",
    "    action_type_description = list(subset[\"Action_Type_Description\"])[0]\n",
    "\n",
    "    description_columns.append([event_msg_type_description,action_type_description])\n",
    "    "
   ]
  },
  {
   "cell_type": "code",
   "execution_count": 11,
   "metadata": {},
   "outputs": [],
   "source": [
    "event_msg_type_result = [description[0] for description in description_columns]\n",
    "action_type_result = [description[1] for description in description_columns]"
   ]
  },
  {
   "cell_type": "code",
   "execution_count": 12,
   "metadata": {},
   "outputs": [],
   "source": [
    "play_dat[\"event_msg_type_desc\"] = event_msg_type_result\n",
    "play_dat[\"action_type_desc\"] = action_type_result"
   ]
  },
  {
   "cell_type": "code",
   "execution_count": 13,
   "metadata": {},
   "outputs": [],
   "source": [
    "play_dat = play_dat[['Game_id', 'Event_Num', \n",
    "                    'Event_Msg_Type', 'Action_Type',\n",
    "                    'event_msg_type_desc','action_type_desc',\n",
    "       'Team_id_updated', 'Period', 'WC_Time', 'PC_Time', 'Option1', 'Option2',\n",
    "       'Option3', 'Team_id', 'Person1', 'Person2', 'Person3', 'Team_id_type',\n",
    "       'Person1_type', 'Person2_type', 'Person3_type']]"
   ]
  },
  {
   "cell_type": "code",
   "execution_count": 14,
   "metadata": {},
   "outputs": [
    {
     "data": {
      "text/plain": [
       "Rebound                                     1361\n",
       "Timeout                                      903\n",
       "Stoppage                                     452\n",
       "Start Period                                 332\n",
       "End Period                                   332\n",
       "Instant Replay                               183\n",
       "Turnover                                     110\n",
       "Final Box Printed                             82\n",
       "Violation                                     21\n",
       "Foul                                           8\n",
       "Name: event_msg_type_desc, dtype: int64"
      ]
     },
     "execution_count": 14,
     "metadata": {},
     "output_type": "execute_result"
    }
   ],
   "source": [
    "play_dat[play_dat[\"Team_id_updated\"] == \"N/A\"][\"event_msg_type_desc\"].value_counts()"
   ]
  },
  {
   "cell_type": "markdown",
   "metadata": {},
   "source": [
    "### Function 2: The final function, which is condensed version of function one"
   ]
  },
  {
   "cell_type": "code",
   "execution_count": 15,
   "metadata": {},
   "outputs": [],
   "source": [
    "def get_df2(player_id, game_id):\n",
    "    \n",
    "    \"\"\" Takes in the player_id and game_id and will return the df of rows consisting of only\n",
    "        the times the player was in throughout the whole game \"\"\"\n",
    "    \n",
    "    # Split up the data into 3 parts: first half, second half, ot\n",
    "    first_half = play_dat[(play_dat[\"Game_id\"] == game_id) & (play_dat[\"Period\"] < 3)].reset_index(drop = True)\n",
    "    second_half = play_dat[(play_dat[\"Game_id\"] == game_id) & (play_dat[\"Period\"] > 2) & (play_dat[\"Period\"] != 5)].reset_index(drop = True)\n",
    "    overtime = play_dat[(play_dat[\"Game_id\"] == game_id) & (play_dat[\"Period\"] == 5)].reset_index(drop = True)\n",
    "    \n",
    "    # Put all Data frames into a list \n",
    "    all_dfs = [first_half, second_half, overtime]\n",
    "    \n",
    "    # Getting df of each half then combinging it into one \n",
    "    x = [my_function(all_dfs[i],player_id) for i in range(0,len(all_dfs))]\n",
    "    \n",
    "    if all(ha is None for ha in x):\n",
    "        pdf = pd.DataFrame()\n",
    "    else:\n",
    "        pdf = pd.concat(x).reset_index(drop = True)\n",
    "    \n",
    "    return pdf"
   ]
  },
  {
   "cell_type": "code",
   "execution_count": 16,
   "metadata": {},
   "outputs": [],
   "source": [
    "def my_function(all_df, player_id):\n",
    "    \n",
    "    final_df = None\n",
    "    \n",
    "    # Gets indicies of when the player subbed in and subbed out\n",
    "    subbed_out1 = all_df[(all_df[\"Event_Msg_Type\"] == 8) & (all_df[\"Person1\"] == player_id)].index.tolist()\n",
    "    subbed_in1 =  all_df[(all_df[\"Event_Msg_Type\"] == 8) & (all_df[\"Person2\"] == player_id)].index.tolist()\n",
    "    \n",
    "    # Checks if player was even active and if they started but never subbed out\n",
    "    if (len(subbed_in1) == 0) & (len(subbed_out1) == 0):\n",
    "        if ((player_id in all_df.Person1.values) | (player_id in all_df.Person2.values) | (player_id in all_df.Person3.values)):\n",
    "            final_df = all_df\n",
    "        else:\n",
    "            final_df = None\n",
    "    \n",
    "    # Checks to see if a player started, then subbed out but never subbed in again \n",
    "    if (len(subbed_in1) == 0) & (len(subbed_out1) == 1):\n",
    "        \n",
    "        # Check to see if they subbed out during a freethrow\n",
    "        free_throw_indicies = []\n",
    "        for index in subbed_out1:\n",
    "            if (all_df.iloc[index+1][2] == 3) & (all_df.iloc[index+1][6] in list(range(10,30))):\n",
    "                free_throw_indicies.append(index + 1)\n",
    "            else:\n",
    "                free_throw_indicies.append(index)\n",
    "        \n",
    "        subbed_out1 = free_throw_indicies\n",
    "        final_df = all_df[0:subbed_out1[0]]\n",
    "    \n",
    "    # Check to see if a player subbed in, but then never subbed out again \n",
    "    if (len(subbed_in1) == 1) & (len(subbed_out1) == 0):\n",
    "        \n",
    "        # Disregard freethrows for when the player subbed in\n",
    "        free_throw_indicies1 = []\n",
    "        for index in subbed_in1:\n",
    "            if (all_df.iloc[index+1][2] == 3) & (all_df.iloc[index+1][6] in list(range(10,30))):\n",
    "                free_throw_indicies1.append(index)\n",
    "            else:\n",
    "                free_throw_indicies1.append(index)\n",
    "        \n",
    "        subbed_in1 = free_throw_indicies1\n",
    "        final_df = all_df[subbed_in1[0]:]\n",
    "    \n",
    "    # Checks if player subbed in and out multiple times in a half \n",
    "    if (len(subbed_in1) > 0) & (len(subbed_out1) > 0):\n",
    "        \n",
    "        # Checks to see if a player started or not \n",
    "        if subbed_in1[0] > subbed_out1[0]:\n",
    "            subbed_in1.append(0)\n",
    "            subbed_in1.sort()\n",
    "        \n",
    "        # Check if player subbed out during free throws \n",
    "        free_throw_indicies = []\n",
    "        for index in subbed_out1:\n",
    "            if (all_df.iloc[index+1][2] == 3) & (all_df.iloc[index+1][6] in list(range(10,30))):\n",
    "                free_throw_indicies.append(index+2)\n",
    "            else:\n",
    "                free_throw_indicies.append(index + 1)\n",
    "        \n",
    "        # Disregard freethrows for when the player subbed in\n",
    "        free_throw_indicies1 = []\n",
    "        for index in subbed_in1:\n",
    "            if (all_df.iloc[index+1][2] == 3) & (all_df.iloc[index+1][6] in list(range(10,30))):\n",
    "                free_throw_indicies1.append(index+2)\n",
    "            else:\n",
    "                free_throw_indicies1.append(index)\n",
    "        \n",
    "        # Update indicies\n",
    "        subbed_out1 = free_throw_indicies\n",
    "        subbed_in1 = free_throw_indicies1\n",
    "        \n",
    "        # Get df \n",
    "        subdfs = [all_df[i:j] for i,j in zip(subbed_in1, subbed_out1)]\n",
    "        final_df = pd.concat(subdfs)\n",
    "        \n",
    "        # Check to see if the player finished out the half\n",
    "        if len(subbed_in1) > len(subbed_out1):\n",
    "            dat1 = all_df[subbed_in1[-1]:]\n",
    "            final_df = final_df.append(dat1)\n",
    "    \n",
    "    return final_df\n"
   ]
  },
  {
   "cell_type": "code",
   "execution_count": 17,
   "metadata": {},
   "outputs": [
    {
     "data": {
      "text/plain": [
       "319"
      ]
     },
     "execution_count": 17,
     "metadata": {},
     "output_type": "execute_result"
    }
   ],
   "source": [
    "y = get_df2(\"42e0d7167f04a4ff958c6442da0e6851\",\"ff42c1cba89fd3f3a7a6711a11d5576d\")\n",
    "len(y)"
   ]
  },
  {
   "cell_type": "markdown",
   "metadata": {},
   "source": [
    "### Get_points function: Wiil take in a data frame and find the total amount of points scored"
   ]
  },
  {
   "cell_type": "code",
   "execution_count": 51,
   "metadata": {},
   "outputs": [],
   "source": [
    "def get_points(df):\n",
    "    \n",
    "    \"\"\" Takes in a data frame and will calculate the amount of points scored, if the data frame enetered is empty\n",
    "     or if there was no posession where a shot was made the function will return 0\"\"\"\n",
    "    \n",
    "    # Subsets data frame to only look at rows with made field goals and made free throws \n",
    "    fgs_df = df[((df[\"Event_Msg_Type\"] == 3) & (df[\"Option1\"] == 1)) | (df[\"Event_Msg_Type\"] == 1)]\n",
    "    \n",
    "    new_1 = fgs_df[\"Option1\"].sum()\n",
    "    \n",
    "    return new_1"
   ]
  },
  {
   "cell_type": "code",
   "execution_count": 52,
   "metadata": {},
   "outputs": [
    {
     "name": "stdout",
     "output_type": "stream",
     "text": [
      "75\n",
      "75\n",
      "75\n"
     ]
    }
   ],
   "source": [
    "####### Test \n",
    "\n",
    "# Gets the team id of the player\n",
    "t_id = list(player_team_df[player_team_df[\"Person_id\"] == \"42e0d7167f04a4ff958c6442da0e6851\"][\"Team_id\"])\n",
    "\n",
    "# Subset the data to only include team_id of that player \n",
    "ortg_pos = y[y[\"Team_id_updated\"] == t_id[0]]\n",
    "\n",
    "## Subset the data to only look at places where points were scored \n",
    "fgs_df = ortg_pos[((ortg_pos[\"Event_Msg_Type\"] == 3) & (ortg_pos[\"Option1\"] == 1)) | (ortg_pos[\"Event_Msg_Type\"] == 1)]\n",
    "shots = dict(fgs_df[\"Option1\"].value_counts())\n",
    "\n",
    "# Put it in a list \n",
    "ha = list(shots.items())\n",
    "\n",
    "new_l = []\n",
    "for i in range(0, len(ha)):\n",
    "    total = ha[i][0] * ha[i][1]\n",
    "    new_l.append(total)\n",
    "\n",
    "points = sum(new_l)\n",
    "\n",
    "function_points = get_points(ortg_pos)\n",
    "\n",
    "# Since both returned  the same amount that means the function works \n",
    "print(points)\n",
    "print(function_points)\n",
    "print(fgs_df[\"Option1\"].sum())"
   ]
  },
  {
   "cell_type": "markdown",
   "metadata": {},
   "source": [
    "### Get_pos function: Will take in a data frame of rows player was in and their team id and calculate number of possesions they were in for "
   ]
  },
  {
   "cell_type": "code",
   "execution_count": 20,
   "metadata": {},
   "outputs": [],
   "source": [
    "#### Look at and account for all cases listed in the prompt "
   ]
  },
  {
   "cell_type": "code",
   "execution_count": 53,
   "metadata": {},
   "outputs": [],
   "source": [
    "def get_possessions(df):\n",
    "    \n",
    "    '''Takes a df and computes the number of possessions a player was on the court for.'''\n",
    "    \n",
    "    final_free_throw = [\"Free Throw 2 of 2\", \"Free Throw 1 of 1\", \"Free Throw 3 of 3\"]\n",
    "    num_pos = 0\n",
    "    \n",
    "    # iterate through each row of the dataframe\n",
    "    for row in range(0,len(df[\"Game_id\"])):\n",
    "        \n",
    "        # get the current team and the team of next row\n",
    "        current_team = df[\"Team_id_updated\"][row]\n",
    "        next_team = \"\"\n",
    "        final_row = False\n",
    "        try:\n",
    "            next_team = y[\"Team_id_updated\"][row+1]\n",
    "        except:\n",
    "            next_team = current_team\n",
    "            final_row = True\n",
    "        \n",
    "        # case (1) made field goal attempts,\n",
    "        if (df[\"event_msg_type_desc\"][row].strip() == 'Made Shot'):\n",
    "            num_pos += 1\n",
    "            \n",
    "        # case (2) made final free throw attempt, \n",
    "        elif (df['action_type_desc'][row] in final_free_throw) and (df['Option1'][row] == 1):\n",
    "            num_pos += 1\n",
    "            \n",
    "        # case (3) missed final free throw attempt that results in a defensive rebound,\n",
    "        elif (not final_row) and (df['action_type_desc'][row] in final_free_throw) and (df['Option1'][row] != 1) and (df[\"event_msg_type_desc\"][row+1].strip() == 'Rebound') and (current_team != next_team):\n",
    "            num_pos += 1\n",
    "            \n",
    "        # case (4) missed field goal attempt that results in a defensive rebound, \n",
    "        elif (not final_row) and (df[\"event_msg_type_desc\"][row].strip() == 'Missed Shot') and (df[\"event_msg_type_desc\"][row+1].strip() == 'Rebound') and (current_team != next_team):\n",
    "            num_pos += 1\n",
    "            \n",
    "        # case 5: Turnover or End of Period\n",
    "        elif (df[\"event_msg_type_desc\"][row].strip() == 'Turnover') or (df[\"event_msg_type_desc\"][row].strip() == 'End Period'):\n",
    "            num_pos += 1\n",
    "        \n",
    "        else:\n",
    "            continue\n",
    "            \n",
    "            \n",
    "    return num_pos\n"
   ]
  },
  {
   "cell_type": "code",
   "execution_count": 54,
   "metadata": {},
   "outputs": [
    {
     "data": {
      "text/plain": [
       "132"
      ]
     },
     "execution_count": 54,
     "metadata": {},
     "output_type": "execute_result"
    }
   ],
   "source": [
    "get_possessions(y)"
   ]
  },
  {
   "cell_type": "markdown",
   "metadata": {},
   "source": [
    "### Final Function which gets offensive and defensive rating using the functions defined above"
   ]
  },
  {
   "cell_type": "code",
   "execution_count": 55,
   "metadata": {},
   "outputs": [],
   "source": [
    "def get_rtgs(player_id,game_id):\n",
    "    \n",
    "    # Get Data Frame of the possesions they were in\n",
    "    df = get_df2(player_id, game_id)\n",
    "    \n",
    "    if (df.empty):\n",
    "        ortg = 0\n",
    "        drtg = 0\n",
    "    \n",
    "    else:\n",
    "        \n",
    "        # Get the Team_ID of the player\n",
    "        t_id = list(player_team_df[player_team_df[\"Person_id\"] == player_id][\"Team_id\"])\n",
    "    \n",
    "        # Get points scored by only looking at rows where the df is equal to the player's team\n",
    "        ortg_pos = df[df[\"Team_id_updated\"] == t_id[0]]\n",
    "        points_scored = get_points(ortg_pos)\n",
    "    \n",
    "        # Get points allowed by only looking at rows where the df is  not equal to the player's team\n",
    "        drtg_pos = df[df[\"Team_id_updated\"] != t_id[0]]\n",
    "        points_allowed = get_points(drtg_pos)\n",
    "    \n",
    "        # Get amount of posessions they were in for \n",
    "        num_pos = get_possessions(df)\n",
    "    \n",
    "        # Then having points scored, allowed, and number of possesions calculate offensive and defensive rating\n",
    "        ortg = (points_scored / num_pos) * 100\n",
    "        drtg = (points_allowed / num_pos) * 100\n",
    "    \n",
    "    final = pd.DataFrame([[game_id,player_id,ortg,drtg]], columns= [\"Game_ID\",\"Player_ID\",\"OffRtg\",\"DefRtg\"])\n",
    "    \n",
    "    return final"
   ]
  },
  {
   "cell_type": "code",
   "execution_count": 56,
   "metadata": {},
   "outputs": [
    {
     "data": {
      "text/html": [
       "<div>\n",
       "<style scoped>\n",
       "    .dataframe tbody tr th:only-of-type {\n",
       "        vertical-align: middle;\n",
       "    }\n",
       "\n",
       "    .dataframe tbody tr th {\n",
       "        vertical-align: top;\n",
       "    }\n",
       "\n",
       "    .dataframe thead th {\n",
       "        text-align: right;\n",
       "    }\n",
       "</style>\n",
       "<table border=\"1\" class=\"dataframe\">\n",
       "  <thead>\n",
       "    <tr style=\"text-align: right;\">\n",
       "      <th></th>\n",
       "      <th>Game_ID</th>\n",
       "      <th>Player_ID</th>\n",
       "      <th>OffRtg</th>\n",
       "      <th>DefRtg</th>\n",
       "    </tr>\n",
       "  </thead>\n",
       "  <tbody>\n",
       "    <tr>\n",
       "      <th>0</th>\n",
       "      <td>ff42c1cba89fd3f3a7a6711a11d5576d</td>\n",
       "      <td>42e0d7167f04a4ff958c6442da0e6851</td>\n",
       "      <td>56.818182</td>\n",
       "      <td>43.939394</td>\n",
       "    </tr>\n",
       "  </tbody>\n",
       "</table>\n",
       "</div>"
      ],
      "text/plain": [
       "                            Game_ID                         Player_ID  \\\n",
       "0  ff42c1cba89fd3f3a7a6711a11d5576d  42e0d7167f04a4ff958c6442da0e6851   \n",
       "\n",
       "      OffRtg     DefRtg  \n",
       "0  56.818182  43.939394  "
      ]
     },
     "execution_count": 56,
     "metadata": {},
     "output_type": "execute_result"
    }
   ],
   "source": [
    "get_rtgs(\"42e0d7167f04a4ff958c6442da0e6851\",\"ff42c1cba89fd3f3a7a6711a11d5576d\")"
   ]
  },
  {
   "cell_type": "markdown",
   "metadata": {},
   "source": [
    "### Getting Ratings For everyone"
   ]
  },
  {
   "cell_type": "code",
   "execution_count": 57,
   "metadata": {},
   "outputs": [],
   "source": [
    "person_game = lineup_dat[[\"Person_id\",\"Game_id\"]].drop_duplicates().reset_index(drop = True)"
   ]
  },
  {
   "cell_type": "code",
   "execution_count": 58,
   "metadata": {},
   "outputs": [],
   "source": [
    "finished_df = []\n",
    "for i in range(0,len(person_game)):\n",
    "    p_id = person_game[\"Person_id\"][i]\n",
    "    g_id = person_game[\"Game_id\"][i]\n",
    "    x = get_rtgs(p_id,g_id)\n",
    "    finished_df.append(x)"
   ]
  },
  {
   "cell_type": "code",
   "execution_count": 59,
   "metadata": {},
   "outputs": [],
   "source": [
    "final_product = pd.concat(finished_df)"
   ]
  },
  {
   "cell_type": "code",
   "execution_count": 60,
   "metadata": {},
   "outputs": [
    {
     "data": {
      "text/plain": [
       "760"
      ]
     },
     "execution_count": 60,
     "metadata": {},
     "output_type": "execute_result"
    }
   ],
   "source": [
    "len(final_product[final_product[\"OffRtg\"] == 0])"
   ]
  },
  {
   "cell_type": "code",
   "execution_count": 61,
   "metadata": {},
   "outputs": [],
   "source": [
    "# Save file as csv\n",
    "final_product.to_csv(\"UCD_Q1_BBAL.csv\", index=False)"
   ]
  }
 ],
 "metadata": {
  "kernelspec": {
   "display_name": "Python 3",
   "language": "python",
   "name": "python3"
  },
  "language_info": {
   "codemirror_mode": {
    "name": "ipython",
    "version": 3
   },
   "file_extension": ".py",
   "mimetype": "text/x-python",
   "name": "python",
   "nbconvert_exporter": "python",
   "pygments_lexer": "ipython3",
   "version": "3.7.1"
  }
 },
 "nbformat": 4,
 "nbformat_minor": 2
}
